{
  "nbformat": 4,
  "nbformat_minor": 0,
  "metadata": {
    "colab": {
      "provenance": [],
      "authorship_tag": "ABX9TyMiJU8Wjm+xAMo4/SNxao67",
      "include_colab_link": true
    },
    "kernelspec": {
      "name": "ir",
      "display_name": "R"
    },
    "language_info": {
      "name": "R"
    }
  },
  "cells": [
    {
      "cell_type": "markdown",
      "metadata": {
        "id": "view-in-github",
        "colab_type": "text"
      },
      "source": [
        "<a href=\"https://colab.research.google.com/github/yangpimpollo/etas_model/blob/main/etas_test_final.ipynb\" target=\"_parent\"><img src=\"https://colab.research.google.com/assets/colab-badge.svg\" alt=\"Open In Colab\"/></a>"
      ]
    },
    {
      "cell_type": "code",
      "execution_count": 2,
      "metadata": {
        "colab": {
          "base_uri": "https://localhost:8080/"
        },
        "collapsed": true,
        "id": "0dOqoitUBrCs",
        "outputId": "52d30e93-6bd9-4795-e28c-e8988736780b"
      },
      "outputs": [
        {
          "output_type": "stream",
          "name": "stderr",
          "text": [
            "Installing package into ‘/usr/local/lib/R/site-library’\n",
            "(as ‘lib’ is unspecified)\n",
            "\n",
            "also installing the dependencies ‘tensor’, ‘dotCall64’, ‘spatstat.data’, ‘spatstat.utils’, ‘deldir’, ‘polyclip’, ‘spatstat.sparse’, ‘abind’, ‘spam’, ‘maps’, ‘goftest’, ‘spatstat.geom’, ‘spatstat.explore’, ‘spatstat.random’, ‘Rcpp’, ‘fields’\n",
            "\n",
            "\n",
            "Loading required package: maps\n",
            "\n"
          ]
        }
      ],
      "source": [
        "# instalacion de librerias\n",
        "install.packages('ETAS')\n",
        "library(ETAS)"
      ]
    },
    {
      "cell_type": "code",
      "source": [],
      "metadata": {
        "id": "3KD14hbsKDcZ"
      },
      "execution_count": null,
      "outputs": []
    }
  ]
}